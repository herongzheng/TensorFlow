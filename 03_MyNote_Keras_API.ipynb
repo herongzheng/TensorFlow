{
 "cells": [
  {
   "cell_type": "markdown",
   "metadata": {},
   "source": [
    "# Lecture 03: Using Keras API for MNIST Dataset\n",
    "\n",
    "## Edited by Jiangming Yao  (<a href=\"https://github.com/jmyao17\"> github </a>)\n",
    "\n",
    "## Date: 08/07/2018\n",
    "\n",
    "## Outline\n",
    "- Introduction\n",
    "- Structure of Keras API\n",
    "- Implementation\n",
    "- Summary\n",
    "\n",
    "## 1. Introduction\n",
    "   Why Keras API\n",
    "   * Keras is highly developed with very good documentation\n",
    "   * Keras will be the standard API for TensorFlow\n",
    "   \n",
    "## 2. Structure of Keras API\n",
    "   Keras has two types of models for which one has to import different  <font color='red'> modules/functions </font>\n",
    "   \n",
    "## 2.1 Sequential Model: allows for the layers to be added in sequence.\n",
    "   \n",
    "   from tensorflow.python.keras.models import <font color='red'> Sequential </font> <br>\n",
    "   \n",
    "   from tensorflow.python.keras.layers import <font color='red'> InputLayer, Input </font><br>\n",
    "   from tensorflow.python.keras.layers import <font color='red'> Reshape, MaxPooling2D </font> <br>\n",
    "   from tensorflow.python.keras.layers import <font color='red'> Conv2D, Dense, Flatten </font> <br>\n",
    "   from tensorflow.python.keras.models import <font color='red'> Model</font> <br>\n",
    "   \n",
    "   model = <font color='blue'>Sequential()  </font> <br>\n",
    "   model.add(<font color='blue'> InputLayer </font>(input_shape=(img_size_flat,)))<br>\n",
    "   model.add(<font color='blue'> Reshape </font>(img_shape_full))<br>\n",
    "   \n",
    "   \n",
    "   model.add(<font color='blue'> Conv2D </font>(kernel_size=5, strides=1, filters=16, padding='same', activation='relu', name='layer_conv1'))<br>\n",
    "   model.add(<font color='blue'> MaxPooling2D </font>(pool_size=2, strides=2))<br>\n",
    "   \n",
    "   \n",
    "   model.add(<font color='blue'> Conv2D </font>(kernel_size=5, strides=1, filters=36, padding='same', activation='relu', name='layer_conv2'))<br>\n",
    "   model.add(<font color='blue'> MaxPooling2D </font>(pool_size=2, strides=2))<br>\n",
    "   \n",
    "   \n",
    "   model.add(<font color='blue'> Flatten </font>())<br>\n",
    "   model.add(<font color='blue'> Dense </font>(128, activation='relu'))<br>\n",
    "   model.add(<font color='blue'> Dense </font>(num_classes, activation='softmax'))<br>\n",
    "   \n",
    "   \n",
    "   model.<font color='blue'>compile </font>(optimizer=Adam(lr=1e-3),\n",
    "              loss='categorical_crossentropy',\n",
    "              metrics=['accuracy'])\n",
    "              \n",
    "   model.<font color='blue'> fit </font>(x=data.train.images,\n",
    "          y=data.train.labels,\n",
    "          epochs=1, batch_size=128)\n",
    "          \n",
    "   y_pred = model.<font color='blue'>predict </font>(x=data.test.images)\n",
    "   \n",
    "   cls_pred = np.argmax(y_pred, axis=1)\n",
    "   \n",
    "## 2.2 Functional Model: allows to build computational graphs that are more complex than the Sequential Model \n",
    "   \n",
    "   \n",
    "   from tensorflow.python.keras.layers import <font color='red'> InputLayer, Input </font><br>\n",
    "   from tensorflow.python.keras.layers import <font color='red'> Reshape, MaxPooling2D </font> <br>\n",
    "   from tensorflow.python.keras.layers import <font color='red'> Conv2D, Dense, Flatten </font> <br>\n",
    "   from tensorflow.python.keras.models import <font color='red'> Model</font> <br>\n",
    "   \n",
    "   inputs = Input(shape=(img_size_flat,)) <br>\n",
    "   net = inputs <br>\n",
    "   net = Reshape(img_shape_full)(net)<br>\n",
    "   net = Conv2D(kernel_size=5, strides=1, filters=16, padding='same',\n",
    "             activation='relu', name='layer_conv1')(net)<br>\n",
    "   net = MaxPooling2D(pool_size=2, strides=2)(net)<br>\n",
    "   net = Conv2D(kernel_size=5, strides=1, filters=36, padding='same',\n",
    "             activation='relu', name='layer_conv2')(net)<br>\n",
    "   net = MaxPooling2D(pool_size=2, strides=2)(net)<br>\n",
    "   net = Flatten()(net)<br>\n",
    "   net = Dense(128, activation='relu')(net)<br>\n",
    "   net = Dense(num_classes, activation='softmax')(net)<br>\n",
    "   outputs = net<br>\n",
    "\n",
    "   model2 = Model(inputs=inputs, outputs=outputs)<br>\n",
    "   model2.compile(optimizer='rmsprop',\n",
    "               loss='categorical_crossentropy',\n",
    "               metrics=['accuracy'])<br>\n",
    "   model2.fit(x=data.train.images,\n",
    "           y=data.train.labels,\n",
    "           epochs=1, batch_size=128)<br>\n",
    "   y_pred = model2.predict(x=data.test.images)<br>\n",
    "  \n",
    "   cls_pred = np.argmax(y_pred, axis=1) <br>\n",
    "   \n",
    "   model2.summary()\n",
    "   \n",
    "   \n",
    "## 3. Implementation\n",
    "\n",
    "- load dataset\n",
    "- check the train and test datasets\n",
    "- define parameters/data dimensions (img_size, shapes, num_channels, num_classes) for CNN\n",
    "- import Keras API\n",
    "- compilation (optimization, fit, predict)\n",
    "- evaluation/visualization\n",
    "- summary\n",
    " \n",
    "\n",
    "\n",
    "## 4.  <a href='https://keras.io/optimizers/'> Optimizers </a>\n",
    " \n",
    "     keras.optimizers.Adam(lr=0.001, beta_1=0.9, beta_2=0.999, epsilon=None, decay=0.0, amsgrad=False)\n",
    "     keras.optimizers.Adagrad(lr=0.01, epsilon=None, decay=0.0)\n",
    "     keras.optimizers.Adadelta(lr=1.0, rho=0.95, epsilon=None, decay=0.0)\n",
    "     keras.optimizers.SGD(lr=0.01, momentum=0.0, decay=0.0, nesterov=False)\n",
    "     keras.optimizers.RMSprop(lr=0.001, rho=0.9, epsilon=None, decay=0.0)\n",
    "     \n",
    "     \n",
    "## 5. Vocabulary\n",
    "\n",
    "- <font color='red'> Epoch </font>\n",
    "An epoch describes the number of times the algorithm sees the entire data set. So, each time the algorithm has seen all samples in the dataset, an epoch has completed.\n",
    "\n",
    "\n",
    "- <font color='red'> Iteration</font>\n",
    "An iteration describes the number of times a batch of data passed through the algorithm. In the case of neural networks, that means the forward pass and backward pass. So, every time you pass a batch of data through the NN, you completed an iteration.\n",
    "\n",
    "## 6. Examples\n",
    "\n",
    "- <a href='http://learnandshare645.blogspot.com/2016/06/feeding-your-own-data-set-into-cnn.html'> vehicles recognition (Feeding your own data set into the CNN model in Keras) </a> \n",
    "\n",
    "- <a href='https://www.kaggle.com/carlosaguayo/introduction-to-deep-learning' > Image recognition (Introduction to Deep Learning)</a>\n",
    "\n",
    "\n",
    "## 7. Others\n",
    "\n",
    "## 7.1 Save and load models \n",
    "\n",
    "\n",
    "    model2.save('model.keras')  \n",
    "    from tensorflow.python.keras.models import load_model  \n",
    "    model3 = load_model(path_model)  \n",
    "    images = data.test.images[0:9]\n",
    "    y_pred = model3.predict(x=images)  \n",
    "    cls_pred = np.argmax(y_pred, axis=1)\n",
    "\n",
    "\n",
    " ## 7.2 Load Images and convert to array \n",
    "\n",
    "Method 1: from tensorflow.python.keras.preprocessing import image\n",
    "  \n",
    "  - img_path='../New/four.jpg'\n",
    "  - img = image.load_img(img_path, target_size=(28, 28), interpolation='nearest' )\n",
    "  - img_data = image.img_to_array(img)\n",
    "  - img_vec = np.expand_dims(img_data, axis=0) \n",
    "  \n",
    "  \n",
    "  Method 2:\n",
    "  \n",
    "  from PIL import Image\n",
    "  - img_path='../New/four.jpg'\n",
    "  - img=Image.open(img_path)\n",
    "  - img=img.resize((28,28))\n",
    "  - img=img.convert('L')  # '1': black and white\n",
    "  - img_data = image.img_to_array(img) \n",
    "  - img_data.shape #(28, 28, 1)\n",
    "  \n",
    "### others   \n",
    "  [test](../New/four.jpg)\n",
    "  \n",
    "  $\\color{red}{red_color}$"
   ]
  },
  {
   "cell_type": "markdown",
   "metadata": {},
   "source": []
  },
  {
   "cell_type": "code",
   "execution_count": null,
   "metadata": {},
   "outputs": [],
   "source": []
  },
  {
   "cell_type": "markdown",
   "metadata": {},
   "source": [
    "## Example \n"
   ]
  },
  {
   "cell_type": "code",
   "execution_count": 2,
   "metadata": {},
   "outputs": [],
   "source": [
    "import matplotlib.pyplot as plt\n",
    "import tensorflow as tf\n",
    "import numpy as np\n",
    "import math"
   ]
  },
  {
   "cell_type": "markdown",
   "metadata": {},
   "source": [
    "## Step 1: Load Datasets"
   ]
  },
  {
   "cell_type": "code",
   "execution_count": 3,
   "metadata": {
    "collapsed": true
   },
   "outputs": [
    {
     "name": "stdout",
     "output_type": "stream",
     "text": [
      "WARNING:tensorflow:From <ipython-input-3-37adf088ce13>:2: read_data_sets (from tensorflow.contrib.learn.python.learn.datasets.mnist) is deprecated and will be removed in a future version.\n",
      "Instructions for updating:\n",
      "Please use alternatives such as official/mnist/dataset.py from tensorflow/models.\n",
      "WARNING:tensorflow:From /Users/jiangming/miniconda3/lib/python3.6/site-packages/tensorflow/contrib/learn/python/learn/datasets/mnist.py:260: maybe_download (from tensorflow.contrib.learn.python.learn.datasets.base) is deprecated and will be removed in a future version.\n",
      "Instructions for updating:\n",
      "Please write your own downloading logic.\n",
      "WARNING:tensorflow:From /Users/jiangming/miniconda3/lib/python3.6/site-packages/tensorflow/contrib/learn/python/learn/datasets/mnist.py:262: extract_images (from tensorflow.contrib.learn.python.learn.datasets.mnist) is deprecated and will be removed in a future version.\n",
      "Instructions for updating:\n",
      "Please use tf.data to implement this functionality.\n",
      "Extracting data/MNIST/train-images-idx3-ubyte.gz\n",
      "WARNING:tensorflow:From /Users/jiangming/miniconda3/lib/python3.6/site-packages/tensorflow/contrib/learn/python/learn/datasets/mnist.py:267: extract_labels (from tensorflow.contrib.learn.python.learn.datasets.mnist) is deprecated and will be removed in a future version.\n",
      "Instructions for updating:\n",
      "Please use tf.data to implement this functionality.\n",
      "Extracting data/MNIST/train-labels-idx1-ubyte.gz\n",
      "WARNING:tensorflow:From /Users/jiangming/miniconda3/lib/python3.6/site-packages/tensorflow/contrib/learn/python/learn/datasets/mnist.py:110: dense_to_one_hot (from tensorflow.contrib.learn.python.learn.datasets.mnist) is deprecated and will be removed in a future version.\n",
      "Instructions for updating:\n",
      "Please use tf.one_hot on tensors.\n",
      "Extracting data/MNIST/t10k-images-idx3-ubyte.gz\n",
      "Extracting data/MNIST/t10k-labels-idx1-ubyte.gz\n",
      "WARNING:tensorflow:From /Users/jiangming/miniconda3/lib/python3.6/site-packages/tensorflow/contrib/learn/python/learn/datasets/mnist.py:290: DataSet.__init__ (from tensorflow.contrib.learn.python.learn.datasets.mnist) is deprecated and will be removed in a future version.\n",
      "Instructions for updating:\n",
      "Please use alternatives such as official/mnist/dataset.py from tensorflow/models.\n"
     ]
    }
   ],
   "source": [
    "from tensorflow.examples.tutorials.mnist import input_data\n",
    "data = input_data.read_data_sets('data/MNIST/', one_hot=True)"
   ]
  },
  {
   "cell_type": "markdown",
   "metadata": {},
   "source": [
    "## About the dataset\n",
    "\n",
    "Data for training\n",
    "- data.train.images\n",
    "- data.train.labels\n",
    "\n",
    "Data for test\n",
    "- data.test.images\n",
    "- data.test.labels\n",
    "\n",
    "An example: the first image is shown as below"
   ]
  },
  {
   "cell_type": "markdown",
   "metadata": {},
   "source": [
    "## Step 2: Check/prepare/clean data "
   ]
  },
  {
   "cell_type": "code",
   "execution_count": null,
   "metadata": {},
   "outputs": [],
   "source": [
    "data.train.images[0:1].shape"
   ]
  },
  {
   "cell_type": "code",
   "execution_count": 9,
   "metadata": {
    "collapsed": true
   },
   "outputs": [
    {
     "name": "stdout",
     "output_type": "stream",
     "text": [
      "The label for the first image is [[ 0.  0.  0.  0.  0.  0.  0.  1.  0.  0.]]\n"
     ]
    },
    {
     "data": {
      "text/plain": [
       "Text(0.5,0,'The class is 7')"
      ]
     },
     "execution_count": 9,
     "metadata": {},
     "output_type": "execute_result"
    },
    {
     "data": {
      "image/png": "[encoded data removed]",
      "text/plain": [
       "<matplotlib.figure.Figure at 0x123a0db70>"
      ]
     },
     "metadata": {},
     "output_type": "display_data"
    }
   ],
   "source": [
    "print(f\"The label for the first image is {data.train.labels[0:1]}\")\n",
    "plt.imshow(data.train.images[0:1].reshape(28,28),cmap='binary');\n",
    "xlabel=f\"The class is {data.train.labels[0:1].argmax()}\"\n",
    "plt.gca().set_xlabel(xlabel,fontsize=18) "
   ]
  },
  {
   "cell_type": "code",
   "execution_count": null,
   "metadata": {},
   "outputs": [],
   "source": [
    "print(f\"The label is {data.train.labels[1:2]}\")\n",
    "plt.imshow(data.train.images[1:2].reshape(28,28),cmap='binary');\n",
    "xlabel=f\"The class is {data.train.labels[1:2].argmax()}\"\n",
    "plt.gca().set_xlabel(xlabel,fontsize=18) "
   ]
  },
  {
   "cell_type": "code",
   "execution_count": null,
   "metadata": {},
   "outputs": [],
   "source": [
    "#print(data.train.images[0:1].max())\n",
    "#modified_image=np.log(data.train.images[1:2]+0.01) \n",
    "#plt.imshow(modified_image.reshape(28,28),cmap='binary')\n",
    "#plt.matshow(modified_image.reshape(28,28),cmap='binary')"
   ]
  },
  {
   "cell_type": "code",
   "execution_count": null,
   "metadata": {},
   "outputs": [],
   "source": []
  },
  {
   "cell_type": "code",
   "execution_count": 4,
   "metadata": {},
   "outputs": [
    {
     "data": {
      "text/plain": [
       "array([7, 2, 1, ..., 4, 5, 6])"
      ]
     },
     "execution_count": 4,
     "metadata": {},
     "output_type": "execute_result"
    }
   ],
   "source": [
    "data.test.cls=np.argmax(data.test.labels,axis=1)\n",
    "data.test.cls"
   ]
  },
  {
   "cell_type": "markdown",
   "metadata": {},
   "source": [
    "## Step 3: Setting parameters/Data dimensions"
   ]
  },
  {
   "cell_type": "code",
   "execution_count": 5,
   "metadata": {},
   "outputs": [],
   "source": [
    "img_size=28\n",
    "img_size_flat=img_size*img_size\n",
    "img_shape=(img_size,img_size)\n",
    "# Tuple with height, width and depth \n",
    "img_shape_full=(img_size,img_size,1)\n",
    "num_classes=10\n",
    "num_channels=1"
   ]
  },
  {
   "cell_type": "markdown",
   "metadata": {},
   "source": [
    "## Help functions"
   ]
  },
  {
   "cell_type": "code",
   "execution_count": null,
   "metadata": {},
   "outputs": [],
   "source": [
    "def plot_images(images, cls_true, cls_pred=None):\n",
    "    assert len(images) == len(cls_true) == 9\n",
    "    \n",
    "    # Create figure with 3x3 sub-plots.\n",
    "    fig, axes = plt.subplots(3, 3)\n",
    "    fig.subplots_adjust(hspace=0.3, wspace=0.3)\n",
    "\n",
    "    for i, ax in enumerate(axes.flat):\n",
    "        # Plot image.\n",
    "        ax.imshow(images[i].reshape(img_shape), cmap='binary')\n",
    "\n",
    "        # Show true and predicted classes.\n",
    "        xlabel = \"True: {0}, Pred: {1}\".format(cls_true[i], cls_pred[i])\n",
    "\n",
    "        # Show the classes as the label on the x-axis.\n",
    "        ax.set_xlabel(xlabel)\n",
    "        \n",
    "        # Remove ticks from the plot.\n",
    "        ax.set_xticks([])\n",
    "        ax.set_yticks([])\n",
    "    \n",
    "    # Ensure the plot is shown correctly with multiple plots\n",
    "    # in a single Notebook cell.\n",
    "    plt.show()\n",
    "    \n",
    "    \n",
    "def plot_example_errors(cls_pred):\n",
    "    # cls_pred is an array of the predicted class-number for\n",
    "    # all images in the test-set.\n",
    "\n",
    "    # Boolean array whether the predicted class is incorrect.\n",
    "    incorrect = (cls_pred != data.test.cls)\n",
    "\n",
    "    # Get the images from the test-set that have been\n",
    "    # incorrectly classified.\n",
    "    images = data.test.images[incorrect]\n",
    "    \n",
    "    # Get the predicted classes for those images.\n",
    "    cls_pred = cls_pred[incorrect]\n",
    "\n",
    "    # Get the true classes for those images.\n",
    "    cls_true = data.test.cls[incorrect]\n",
    "    \n",
    "    # Plot the first 9 images.\n",
    "    plot_images(images=images[0:9],\n",
    "                cls_true=cls_true[0:9],\n",
    "                cls_pred=cls_pred[0:9])\n"
   ]
  },
  {
   "cell_type": "markdown",
   "metadata": {},
   "source": [
    "## Step 4: import Keras API"
   ]
  },
  {
   "cell_type": "markdown",
   "metadata": {},
   "source": [
    "## Keras API"
   ]
  },
  {
   "cell_type": "code",
   "execution_count": 6,
   "metadata": {},
   "outputs": [
    {
     "name": "stdout",
     "output_type": "stream",
     "text": [
      "Epoch 1/2\n",
      "55000/55000 [==============================] - 61s 1ms/step - loss: 1.1087 - acc: 0.6999\n",
      "Epoch 2/2\n",
      "55000/55000 [==============================] - 63s 1ms/step - loss: 0.2987 - acc: 0.9106\n",
      "10000/10000 [==============================] - 5s 453us/step\n"
     ]
    }
   ],
   "source": [
    "from tensorflow.python.keras.models import Sequential \n",
    "from tensorflow.python.keras.layers import InputLayer, Input\n",
    "from tensorflow.python.keras.layers import Reshape, MaxPooling2D \n",
    "from tensorflow.python.keras.layers import Conv2D, Dense, Flatten \n",
    "from tensorflow.python.keras.models import Model \n",
    "\n",
    "model = Sequential() \n",
    "model.add( InputLayer (input_shape=(img_size_flat,)))\n",
    "model.add( Reshape (img_shape_full))\n",
    "model.add( Conv2D (kernel_size=5, strides=1, filters=16, padding='same', activation='relu', name='layer_conv1'))\n",
    "model.add( MaxPooling2D (pool_size=2, strides=2))\n",
    "model.add( Conv2D (kernel_size=5, strides=1, filters=36, padding='same', activation='relu', name='layer_conv2'))\n",
    "model.add( MaxPooling2D (pool_size=2, strides=2))\n",
    "model.add( Flatten ())\n",
    "model.add( Dense (128, activation='relu'))\n",
    "model.add( Dense (num_classes, activation='softmax'))\n",
    "\n",
    "\n",
    "\n",
    "\n"
   ]
  },
  {
   "cell_type": "markdown",
   "metadata": {},
   "source": [
    "## Step 5: Compilation (Optimizer, fit, predict) "
   ]
  },
  {
   "cell_type": "code",
   "execution_count": null,
   "metadata": {},
   "outputs": [],
   "source": [
    "from tensorflow.python.keras.optimizers import SGD\n",
    "optimizer=SGD(lr=0.01, momentum=0.0, decay=0.0, nesterov=False)\n",
    "\n",
    "model.compile(optimizer=optimizer,\n",
    "              loss='categorical_crossentropy',\n",
    "              metrics=['accuracy'])\n",
    "\n",
    "model.fit(x=data.train.images,\n",
    "          y=data.train.labels,\n",
    "          epochs=2, batch_size=128)\n",
    "result = model.evaluate(x=data.test.images,\n",
    "                        y=data.test.labels)"
   ]
  },
  {
   "cell_type": "code",
   "execution_count": null,
   "metadata": {},
   "outputs": [],
   "source": [
    "from tensorflow.python.keras.optimizers import Adam\n",
    "optimizer = Adam(lr=1e-3)\n",
    "\n",
    "model.compile(optimizer=optimizer,\n",
    "              loss='categorical_crossentropy',\n",
    "              metrics=['accuracy'])\n",
    "\n",
    "model.fit(x=data.train.images,\n",
    "          y=data.train.labels,\n",
    "          epochs=2, batch_size=128)\n",
    "result = model.evaluate(x=data.test.images,\n",
    "                        y=data.test.labels)"
   ]
  },
  {
   "cell_type": "markdown",
   "metadata": {},
   "source": [
    "## Prediction and evaulation\n",
    "\n",
    "- Evaulation: The result is a list of values, containing the loss-value and all the metrics we defined when we compiled the model. Note that 'accuracy' is now called 'acc' which is a small inconsistency."
   ]
  },
  {
   "cell_type": "code",
   "execution_count": 33,
   "metadata": {},
   "outputs": [
    {
     "name": "stdout",
     "output_type": "stream",
     "text": [
      "[7 2 1 0 4 1 4 9 5]\n",
      "[7 2 1 0 4 1 4 9 5]\n"
     ]
    }
   ],
   "source": [
    "images=data.test.images \n",
    "data.test.cls=np.argmax(data.test.labels,axis=1)\n",
    "y_pred = model.predict(x=images)\n",
    "cls_pred=np.argmax(y_pred,axis=1)\n",
    "\n",
    "print(cls_pred[0:9])\n",
    "print(data.test.cls[0:9])"
   ]
  },
  {
   "cell_type": "code",
   "execution_count": 14,
   "metadata": {},
   "outputs": [
    {
     "name": "stdout",
     "output_type": "stream",
     "text": [
      "10000/10000 [==============================] - 4s 437us/step\n",
      "loss 0.282137068769\n",
      "acc 0.9134\n"
     ]
    }
   ],
   "source": [
    "result = model.evaluate(x=data.test.images,\n",
    "                         y=data.test.labels)\n",
    "\n",
    "for name, value in zip(model.metrics_names, result):\n",
    "    print(name, value)"
   ]
  },
  {
   "cell_type": "markdown",
   "metadata": {},
   "source": [
    "## Visualization "
   ]
  },
  {
   "cell_type": "code",
   "execution_count": 24,
   "metadata": {},
   "outputs": [
    {
     "data": {
      "image/png": "[encoded data removed]",
      "text/plain": [
       "<matplotlib.figure.Figure at 0x12012a7b8>"
      ]
     },
     "metadata": {},
     "output_type": "display_data"
    }
   ],
   "source": [
    "images_sample=data.test.images[0:9]\n",
    "cls_true_sample=data.test.cls[0:9]\n",
    "cls_pred_sample=cls_pred[0:9]\n",
    "\n",
    "\n",
    "\n",
    "plot_images(images=images_sample,\n",
    "            cls_true=cls_true_sample,\n",
    "            cls_pred=cls_pred_sample)"
   ]
  },
  {
   "cell_type": "code",
   "execution_count": 22,
   "metadata": {},
   "outputs": [],
   "source": [
    "  \n"
   ]
  },
  {
   "cell_type": "code",
   "execution_count": 44,
   "metadata": {},
   "outputs": [
    {
     "data": {
      "image/png": "[encoded data removed]",
      "text/plain": [
       "<matplotlib.figure.Figure at 0x120a77e10>"
      ]
     },
     "metadata": {},
     "output_type": "display_data"
    }
   ],
   "source": [
    "plot_example_errors(cls_pred)"
   ]
  },
  {
   "cell_type": "code",
   "execution_count": 46,
   "metadata": {},
   "outputs": [
    {
     "name": "stdout",
     "output_type": "stream",
     "text": [
      "_________________________________________________________________\n",
      "Layer (type)                 Output Shape              Param #   \n",
      "=================================================================\n",
      "reshape_4 (Reshape)          (None, 28, 28, 1)         0         \n",
      "_________________________________________________________________\n",
      "layer_conv1 (Conv2D)         (None, 28, 28, 16)        416       \n",
      "_________________________________________________________________\n",
      "max_pooling2d_7 (MaxPooling2 (None, 14, 14, 16)        0         \n",
      "_________________________________________________________________\n",
      "layer_conv2 (Conv2D)         (None, 14, 14, 36)        14436     \n",
      "_________________________________________________________________\n",
      "max_pooling2d_8 (MaxPooling2 (None, 7, 7, 36)          0         \n",
      "_________________________________________________________________\n",
      "flatten_4 (Flatten)          (None, 1764)              0         \n",
      "_________________________________________________________________\n",
      "dense_7 (Dense)              (None, 128)               225920    \n",
      "_________________________________________________________________\n",
      "dense_8 (Dense)              (None, 10)                1290      \n",
      "=================================================================\n",
      "Total params: 242,062\n",
      "Trainable params: 242,062\n",
      "Non-trainable params: 0\n",
      "_________________________________________________________________\n"
     ]
    }
   ],
   "source": [
    "model.summary()"
   ]
  },
  {
   "cell_type": "markdown",
   "metadata": {},
   "source": [
    "## Keras Function Model"
   ]
  },
  {
   "cell_type": "code",
   "execution_count": 47,
   "metadata": {},
   "outputs": [],
   "source": [
    " "
   ]
  },
  {
   "cell_type": "code",
   "execution_count": 10,
   "metadata": {},
   "outputs": [],
   "source": [
    "# Note that the input-shape must be a tuple containing the image-size.\n",
    "inputs = Input(shape=(img_size_flat,))\n",
    "\n",
    "# Variable used for building the Neural Network.\n",
    "net = inputs\n",
    "\n",
    "# The input is an image as a flattened array with 784 elements.\n",
    "# But the convolutional layers expect images with shape (28, 28, 1)\n",
    "net = Reshape(img_shape_full)(net)\n",
    "\n",
    "# First convolutional layer with ReLU-activation and max-pooling.\n",
    "net = Conv2D(kernel_size=5, strides=1, filters=16, padding='same',\n",
    "             activation='relu', name='layer_conv1')(net)\n",
    "net = MaxPooling2D(pool_size=2, strides=2)(net)\n",
    "\n",
    "# Second convolutional layer with ReLU-activation and max-pooling.\n",
    "net = Conv2D(kernel_size=5, strides=1, filters=36, padding='same',\n",
    "             activation='relu', name='layer_conv2')(net)\n",
    "net = MaxPooling2D(pool_size=2, strides=2)(net)\n",
    "\n",
    "# Flatten the output of the conv-layer from 4-dim to 2-dim.\n",
    "net = Flatten()(net)\n",
    "\n",
    "# First fully-connected / dense layer with ReLU-activation.\n",
    "net = Dense(128, activation='relu')(net)\n",
    "\n",
    "# Last fully-connected / dense layer with softmax-activation\n",
    "# so it can be used for classification.\n",
    "net = Dense(num_classes, activation='softmax')(net)\n",
    "\n",
    "# Output of the Neural Network.\n",
    "outputs = net"
   ]
  },
  {
   "cell_type": "markdown",
   "metadata": {},
   "source": [
    "# Compilation (optimizer,fit)"
   ]
  },
  {
   "cell_type": "code",
   "execution_count": 11,
   "metadata": {},
   "outputs": [
    {
     "name": "stdout",
     "output_type": "stream",
     "text": [
      "Epoch 1/1\n",
      "55000/55000 [==============================] - 63s 1ms/step - loss: 0.2071 - acc: 0.9355\n"
     ]
    },
    {
     "data": {
      "text/plain": [
       "<tensorflow.python.keras._impl.keras.callbacks.History at 0x12972cbe0>"
      ]
     },
     "execution_count": 11,
     "metadata": {},
     "output_type": "execute_result"
    }
   ],
   "source": [
    "from tensorflow.python.keras.models import Model\n",
    "model2 = Model(inputs=inputs, outputs=outputs)\n",
    "\n",
    "model2.compile(optimizer='rmsprop',\n",
    "               loss='categorical_crossentropy',\n",
    "               metrics=['accuracy'])\n",
    "\n",
    "model2.fit(x=data.train.images,\n",
    "           y=data.train.labels,\n",
    "           epochs=1, batch_size=128)"
   ]
  },
  {
   "cell_type": "markdown",
   "metadata": {},
   "source": [
    "# Evaulate"
   ]
  },
  {
   "cell_type": "code",
   "execution_count": 15,
   "metadata": {},
   "outputs": [
    {
     "name": "stdout",
     "output_type": "stream",
     "text": [
      "10000/10000 [==============================] - 4s 440us/step\n",
      "loss 0.0758123642274\n",
      "acc 0.9763\n"
     ]
    }
   ],
   "source": [
    "result = model2.evaluate(x=data.test.images,\n",
    "                         y=data.test.labels)\n",
    "for name, value in zip(model.metrics_names, result):\n",
    "    print(name, value)"
   ]
  },
  {
   "cell_type": "code",
   "execution_count": 16,
   "metadata": {
    "collapsed": true
   },
   "outputs": [
    {
     "name": "stdout",
     "output_type": "stream",
     "text": [
      "acc: 97.63%\n"
     ]
    }
   ],
   "source": []
  },
  {
   "cell_type": "code",
   "execution_count": 19,
   "metadata": {},
   "outputs": [
    {
     "name": "stdout",
     "output_type": "stream",
     "text": [
      "acc: 97.63%\n"
     ]
    }
   ],
   "source": [
    "print(\"{0}: {1:.2%}\".format(model2.metrics_names[1], result[1]))"
   ]
  },
  {
   "cell_type": "code",
   "execution_count": 20,
   "metadata": {},
   "outputs": [
    {
     "data": {
      "text/plain": [
       "array([7, 2, 1, ..., 4, 5, 6])"
      ]
     },
     "execution_count": 20,
     "metadata": {},
     "output_type": "execute_result"
    }
   ],
   "source": [
    "y_pred = model2.predict(x=data.test.images)\n",
    "cls_pred = np.argmax(y_pred, axis=1)\n",
    "cls_pred"
   ]
  },
  {
   "cell_type": "code",
   "execution_count": 25,
   "metadata": {},
   "outputs": [
    {
     "data": {
      "image/png": "[encoded data removed]",
      "text/plain": [
       "<matplotlib.figure.Figure at 0x11ff67da0>"
      ]
     },
     "metadata": {},
     "output_type": "display_data"
    }
   ],
   "source": [
    "plot_example_errors(cls_pred)"
   ]
  },
  {
   "cell_type": "code",
   "execution_count": 26,
   "metadata": {},
   "outputs": [
    {
     "data": {
      "image/png": "[encoded data removed]",
      "text/plain": [
       "<matplotlib.figure.Figure at 0x1297697f0>"
      ]
     },
     "metadata": {},
     "output_type": "display_data"
    }
   ],
   "source": []
  },
  {
   "cell_type": "markdown",
   "metadata": {},
   "source": [
    "# Save and load FUNCTION models"
   ]
  },
  {
   "cell_type": "code",
   "execution_count": 27,
   "metadata": {},
   "outputs": [],
   "source": [
    "path_model = 'model.keras'"
   ]
  },
  {
   "cell_type": "code",
   "execution_count": 29,
   "metadata": {},
   "outputs": [],
   "source": [
    "model2.save(path_model)\n",
    "del model2"
   ]
  },
  {
   "cell_type": "code",
   "execution_count": 30,
   "metadata": {},
   "outputs": [],
   "source": [
    "from tensorflow.python.keras.models import load_model\n",
    "model3=load_model(path_model)"
   ]
  },
  {
   "cell_type": "code",
   "execution_count": 31,
   "metadata": {},
   "outputs": [
    {
     "name": "stdout",
     "output_type": "stream",
     "text": [
      "_________________________________________________________________\n",
      "Layer (type)                 Output Shape              Param #   \n",
      "=================================================================\n",
      "input_2 (InputLayer)         (None, 784)               0         \n",
      "_________________________________________________________________\n",
      "reshape_2 (Reshape)          (None, 28, 28, 1)         0         \n",
      "_________________________________________________________________\n",
      "layer_conv1 (Conv2D)         (None, 28, 28, 16)        416       \n",
      "_________________________________________________________________\n",
      "max_pooling2d_3 (MaxPooling2 (None, 14, 14, 16)        0         \n",
      "_________________________________________________________________\n",
      "layer_conv2 (Conv2D)         (None, 14, 14, 36)        14436     \n",
      "_________________________________________________________________\n",
      "max_pooling2d_4 (MaxPooling2 (None, 7, 7, 36)          0         \n",
      "_________________________________________________________________\n",
      "flatten_2 (Flatten)          (None, 1764)              0         \n",
      "_________________________________________________________________\n",
      "dense_3 (Dense)              (None, 128)               225920    \n",
      "_________________________________________________________________\n",
      "dense_4 (Dense)              (None, 10)                1290      \n",
      "=================================================================\n",
      "Total params: 242,062\n",
      "Trainable params: 242,062\n",
      "Non-trainable params: 0\n",
      "_________________________________________________________________\n"
     ]
    }
   ],
   "source": [
    "model3.summary()"
   ]
  },
  {
   "cell_type": "code",
   "execution_count": 35,
   "metadata": {},
   "outputs": [
    {
     "data": {
      "image/png": "[encoded data removed]",
      "text/plain": [
       "<matplotlib.figure.Figure at 0x120a5e240>"
      ]
     },
     "metadata": {},
     "output_type": "display_data"
    }
   ],
   "source": [
    "images=data.test.images \n",
    "cls_true=data.test.cls \n",
    "y_pred=model3.predict(x=images)\n",
    "cls_pred=np.argmax(y_pred,axis=1)\n",
    "\n",
    "cls_pred_sample=cls_pred[0:9]\n",
    "\n",
    "plot_images(images=images_sample,\n",
    "            cls_true=cls_true_sample,\n",
    "            cls_pred=cls_pred_sample)"
   ]
  },
  {
   "cell_type": "code",
   "execution_count": 36,
   "metadata": {},
   "outputs": [],
   "source": [
    "path_seqmodel = 'seq_model.keras'\n",
    "model.save(path_seqmodel)\n",
    "del model"
   ]
  },
  {
   "cell_type": "code",
   "execution_count": 37,
   "metadata": {},
   "outputs": [
    {
     "ename": "ValueError",
     "evalue": "You are trying to load a weight file containing 4 layers into a model with 0 layers.",
     "output_type": "error",
     "traceback": [
      "\u001b[0;31m---------------------------------------------------------------------------\u001b[0m",
      "\u001b[0;31mValueError\u001b[0m                                Traceback (most recent call last)",
      "\u001b[0;32m<ipython-input-37-3e1c0a5cd679>\u001b[0m in \u001b[0;36m<module>\u001b[0;34m()\u001b[0m\n\u001b[0;32m----> 1\u001b[0;31m \u001b[0mseq_model\u001b[0m\u001b[0;34m=\u001b[0m\u001b[0mload_model\u001b[0m\u001b[0;34m(\u001b[0m\u001b[0mpath_seqmodel\u001b[0m\u001b[0;34m)\u001b[0m\u001b[0;34m\u001b[0m\u001b[0m\n\u001b[0m",
      "\u001b[0;32m~/miniconda3/lib/python3.6/site-packages/tensorflow/python/keras/_impl/keras/engine/saving.py\u001b[0m in \u001b[0;36mload_model\u001b[0;34m(filepath, custom_objects, compile)\u001b[0m\n\u001b[1;32m    242\u001b[0m \u001b[0;34m\u001b[0m\u001b[0m\n\u001b[1;32m    243\u001b[0m     \u001b[0;31m# set weights\u001b[0m\u001b[0;34m\u001b[0m\u001b[0;34m\u001b[0m\u001b[0m\n\u001b[0;32m--> 244\u001b[0;31m     \u001b[0mload_weights_from_hdf5_group\u001b[0m\u001b[0;34m(\u001b[0m\u001b[0mf\u001b[0m\u001b[0;34m[\u001b[0m\u001b[0;34m'model_weights'\u001b[0m\u001b[0;34m]\u001b[0m\u001b[0;34m,\u001b[0m \u001b[0mmodel\u001b[0m\u001b[0;34m.\u001b[0m\u001b[0mlayers\u001b[0m\u001b[0;34m)\u001b[0m\u001b[0;34m\u001b[0m\u001b[0m\n\u001b[0m\u001b[1;32m    245\u001b[0m \u001b[0;34m\u001b[0m\u001b[0m\n\u001b[1;32m    246\u001b[0m     \u001b[0;31m# Early return if compilation is not required.\u001b[0m\u001b[0;34m\u001b[0m\u001b[0;34m\u001b[0m\u001b[0m\n",
      "\u001b[0;32m~/miniconda3/lib/python3.6/site-packages/tensorflow/python/keras/_impl/keras/engine/saving.py\u001b[0m in \u001b[0;36mload_weights_from_hdf5_group\u001b[0;34m(f, layers)\u001b[0m\n\u001b[1;32m    695\u001b[0m                      \u001b[0;34m'containing '\u001b[0m \u001b[0;34m+\u001b[0m \u001b[0mstr\u001b[0m\u001b[0;34m(\u001b[0m\u001b[0mlen\u001b[0m\u001b[0;34m(\u001b[0m\u001b[0mlayer_names\u001b[0m\u001b[0;34m)\u001b[0m\u001b[0;34m)\u001b[0m \u001b[0;34m+\u001b[0m\u001b[0;34m\u001b[0m\u001b[0m\n\u001b[1;32m    696\u001b[0m                      \u001b[0;34m' layers into a model with '\u001b[0m \u001b[0;34m+\u001b[0m \u001b[0mstr\u001b[0m\u001b[0;34m(\u001b[0m\u001b[0mlen\u001b[0m\u001b[0;34m(\u001b[0m\u001b[0mfiltered_layers\u001b[0m\u001b[0;34m)\u001b[0m\u001b[0;34m)\u001b[0m \u001b[0;34m+\u001b[0m\u001b[0;34m\u001b[0m\u001b[0m\n\u001b[0;32m--> 697\u001b[0;31m                      ' layers.')\n\u001b[0m\u001b[1;32m    698\u001b[0m \u001b[0;34m\u001b[0m\u001b[0m\n\u001b[1;32m    699\u001b[0m   \u001b[0;31m# We batch weight value assignments in a single backend call\u001b[0m\u001b[0;34m\u001b[0m\u001b[0;34m\u001b[0m\u001b[0m\n",
      "\u001b[0;31mValueError\u001b[0m: You are trying to load a weight file containing 4 layers into a model with 0 layers."
     ]
    }
   ],
   "source": [
    "seq_model=load_model(path_seqmodel)"
   ]
  },
  {
   "cell_type": "code",
   "execution_count": null,
   "metadata": {},
   "outputs": [],
   "source": []
  }
 ],
 "metadata": {
  "kernelspec": {
   "display_name": "Python 3",
   "language": "python",
   "name": "python3"
  },
  "language_info": {
   "codemirror_mode": {
    "name": "ipython",
    "version": 3
   },
   "file_extension": ".py",
   "mimetype": "text/x-python",
   "name": "python",
   "nbconvert_exporter": "python",
   "pygments_lexer": "ipython3",
   "version": "3.6.3"
  }
 },
 "nbformat": 4,
 "nbformat_minor": 2
}
